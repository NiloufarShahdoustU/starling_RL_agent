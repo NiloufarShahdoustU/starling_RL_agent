{
 "cells": [
  {
   "cell_type": "markdown",
   "id": "3460432c",
   "metadata": {},
   "source": [
    "# comparing models behavior with participants behavior"
   ]
  },
  {
   "cell_type": "code",
   "execution_count": 1,
   "id": "9d88a4d6-96e0-4f0b-b75e-d2b236148054",
   "metadata": {},
   "outputs": [],
   "source": [
    "import pandas as pd\n",
    "import numpy as np\n",
    "import matplotlib.pyplot as plt\n",
    "import os\n",
    "os.environ[\"OMP_NUM_THREADS\"] = \"1\"\n",
    "import seaborn as sns \n",
    "import ast\n",
    "from scipy.stats import pearsonr\n",
    "from statsmodels.stats.multitest import fdrcorrection\n",
    "import warnings\n",
    "warnings.filterwarnings(\"ignore\")\n"
   ]
  },
  {
   "cell_type": "code",
   "execution_count": 2,
   "id": "b9316969",
   "metadata": {},
   "outputs": [],
   "source": [
    "output_dir = r\"15_RL_agent_TDlearn_output_behavior\"\n",
    "os.makedirs(output_dir, exist_ok=True)\n",
    "\n",
    "\n",
    "folder_path_participants = 'data_risk_added'\n",
    "folder_path_colors = '11_RL_agent_TDlearn_output/model_behavior'\n",
    "folder_path_numbers = '12_RL_agent_TDlearn_output/model_behavior'\n",
    "folder_path_colors_numbers = '13_RL_agent_TDlearn_output/model_behavior'\n",
    "\n",
    "\n",
    "df_participants = []\n",
    "df_colors = []\n",
    "df_numbers = []\n",
    "df_colors_numbers = []\n",
    "\n",
    "\n",
    "def find_matching_csv(folder_path, df_list):\n",
    "            for csv_file in os.listdir(folder_path):\n",
    "                if clean_name in csv_file and csv_file.endswith('.csv'):\n",
    "                    csv_path = os.path.join(folder_path, csv_file)\n",
    "                    df_csv = pd.read_csv(csv_path)\n",
    "                    df_list.append(df_csv)\n",
    "\n",
    "\n",
    "\n",
    "\n",
    "\n",
    "for file_name in os.listdir(folder_path_participants):\n",
    "    if file_name.endswith('.xlsx'):\n",
    "        file_path = os.path.join(folder_path_participants, file_name)\n",
    "        df = pd.read_excel(file_path)\n",
    "        df = df[df['outcome'].str.lower() != 'na'].reset_index(drop=True)  \n",
    "        df_participants.append(df)\n",
    "\n",
    "        clean_name = file_name.removeprefix(\"task_data_\").removesuffix(\".xlsx\")\n",
    "\n",
    "\n",
    "        def find_matching_csv(folder_path, df_list):\n",
    "            for csv_file in os.listdir(folder_path):\n",
    "                if clean_name in csv_file and csv_file.endswith('.csv'):\n",
    "                    csv_path = os.path.join(folder_path, csv_file)\n",
    "                    df_csv = pd.read_csv(csv_path)\n",
    "                    df_list.append(df_csv)\n",
    "\n",
    "\n",
    "        find_matching_csv(folder_path_colors, df_colors)\n",
    "        find_matching_csv(folder_path_numbers, df_numbers)\n",
    "        find_matching_csv(folder_path_colors_numbers, df_colors_numbers)\n"
   ]
  },
  {
   "cell_type": "code",
   "execution_count": 3,
   "id": "1d4ffa30",
   "metadata": {},
   "outputs": [
    {
     "data": {
      "application/vnd.microsoft.datawrangler.viewer.v0+json": {
       "columns": [
        {
         "name": "index",
         "rawType": "int64",
         "type": "integer"
        },
        {
         "name": "arrowRT",
         "rawType": "int64",
         "type": "integer"
        },
        {
         "name": "distribution",
         "rawType": "object",
         "type": "string"
        },
        {
         "name": "interTrialInterval",
         "rawType": "int64",
         "type": "integer"
        },
        {
         "name": "outcome",
         "rawType": "object",
         "type": "string"
        },
        {
         "name": "myCard",
         "rawType": "int64",
         "type": "integer"
        },
        {
         "name": "yourCard",
         "rawType": "int64",
         "type": "integer"
        },
        {
         "name": "spaceRT",
         "rawType": "int64",
         "type": "integer"
        },
        {
         "name": "totalReward",
         "rawType": "float64",
         "type": "float"
        },
        {
         "name": "trialIndex",
         "rawType": "int64",
         "type": "integer"
        },
        {
         "name": "trialType",
         "rawType": "object",
         "type": "string"
        },
        {
         "name": "choice",
         "rawType": "object",
         "type": "string"
        },
        {
         "name": "block",
         "rawType": "int64",
         "type": "integer"
        },
        {
         "name": "timeoutRepeat",
         "rawType": "int64",
         "type": "integer"
        },
        {
         "name": "risk",
         "rawType": "float64",
         "type": "float"
        }
       ],
       "conversionMethod": "pd.DataFrame",
       "ref": "0dc4d6f9-8791-4d08-9566-d212086ea323",
       "rows": [
        [
         "0",
         "1067",
         "uniform",
         "894",
         "win",
         "3",
         "9",
         "4575",
         "10.5",
         "0",
         "response",
         "arrowdown",
         "1",
         "0",
         "0.25"
        ],
        [
         "1",
         "237",
         "uniform",
         "925",
         "lose",
         "2",
         "1",
         "1903",
         "10.0",
         "1",
         "response",
         "arrowdown",
         "1",
         "0",
         "0.125"
        ],
        [
         "2",
         "231",
         "uniform",
         "973",
         "win",
         "8",
         "2",
         "2130",
         "10.5",
         "2",
         "response",
         "arrowup",
         "1",
         "0",
         "0.125"
        ],
        [
         "3",
         "602",
         "uniform",
         "768",
         "win",
         "7",
         "2",
         "1537",
         "11.0",
         "3",
         "response",
         "arrowup",
         "1",
         "0",
         "0.25"
        ],
        [
         "4",
         "273",
         "uniform",
         "937",
         "win",
         "9",
         "8",
         "1809",
         "11.5",
         "4",
         "response",
         "arrowup",
         "1",
         "0",
         "0.0"
        ]
       ],
       "shape": {
        "columns": 14,
        "rows": 5
       }
      },
      "text/html": [
       "<div>\n",
       "<style scoped>\n",
       "    .dataframe tbody tr th:only-of-type {\n",
       "        vertical-align: middle;\n",
       "    }\n",
       "\n",
       "    .dataframe tbody tr th {\n",
       "        vertical-align: top;\n",
       "    }\n",
       "\n",
       "    .dataframe thead th {\n",
       "        text-align: right;\n",
       "    }\n",
       "</style>\n",
       "<table border=\"1\" class=\"dataframe\">\n",
       "  <thead>\n",
       "    <tr style=\"text-align: right;\">\n",
       "      <th></th>\n",
       "      <th>arrowRT</th>\n",
       "      <th>distribution</th>\n",
       "      <th>interTrialInterval</th>\n",
       "      <th>outcome</th>\n",
       "      <th>myCard</th>\n",
       "      <th>yourCard</th>\n",
       "      <th>spaceRT</th>\n",
       "      <th>totalReward</th>\n",
       "      <th>trialIndex</th>\n",
       "      <th>trialType</th>\n",
       "      <th>choice</th>\n",
       "      <th>block</th>\n",
       "      <th>timeoutRepeat</th>\n",
       "      <th>risk</th>\n",
       "    </tr>\n",
       "  </thead>\n",
       "  <tbody>\n",
       "    <tr>\n",
       "      <th>0</th>\n",
       "      <td>1067</td>\n",
       "      <td>uniform</td>\n",
       "      <td>894</td>\n",
       "      <td>win</td>\n",
       "      <td>3</td>\n",
       "      <td>9</td>\n",
       "      <td>4575</td>\n",
       "      <td>10.5</td>\n",
       "      <td>0</td>\n",
       "      <td>response</td>\n",
       "      <td>arrowdown</td>\n",
       "      <td>1</td>\n",
       "      <td>0</td>\n",
       "      <td>0.250</td>\n",
       "    </tr>\n",
       "    <tr>\n",
       "      <th>1</th>\n",
       "      <td>237</td>\n",
       "      <td>uniform</td>\n",
       "      <td>925</td>\n",
       "      <td>lose</td>\n",
       "      <td>2</td>\n",
       "      <td>1</td>\n",
       "      <td>1903</td>\n",
       "      <td>10.0</td>\n",
       "      <td>1</td>\n",
       "      <td>response</td>\n",
       "      <td>arrowdown</td>\n",
       "      <td>1</td>\n",
       "      <td>0</td>\n",
       "      <td>0.125</td>\n",
       "    </tr>\n",
       "    <tr>\n",
       "      <th>2</th>\n",
       "      <td>231</td>\n",
       "      <td>uniform</td>\n",
       "      <td>973</td>\n",
       "      <td>win</td>\n",
       "      <td>8</td>\n",
       "      <td>2</td>\n",
       "      <td>2130</td>\n",
       "      <td>10.5</td>\n",
       "      <td>2</td>\n",
       "      <td>response</td>\n",
       "      <td>arrowup</td>\n",
       "      <td>1</td>\n",
       "      <td>0</td>\n",
       "      <td>0.125</td>\n",
       "    </tr>\n",
       "    <tr>\n",
       "      <th>3</th>\n",
       "      <td>602</td>\n",
       "      <td>uniform</td>\n",
       "      <td>768</td>\n",
       "      <td>win</td>\n",
       "      <td>7</td>\n",
       "      <td>2</td>\n",
       "      <td>1537</td>\n",
       "      <td>11.0</td>\n",
       "      <td>3</td>\n",
       "      <td>response</td>\n",
       "      <td>arrowup</td>\n",
       "      <td>1</td>\n",
       "      <td>0</td>\n",
       "      <td>0.250</td>\n",
       "    </tr>\n",
       "    <tr>\n",
       "      <th>4</th>\n",
       "      <td>273</td>\n",
       "      <td>uniform</td>\n",
       "      <td>937</td>\n",
       "      <td>win</td>\n",
       "      <td>9</td>\n",
       "      <td>8</td>\n",
       "      <td>1809</td>\n",
       "      <td>11.5</td>\n",
       "      <td>4</td>\n",
       "      <td>response</td>\n",
       "      <td>arrowup</td>\n",
       "      <td>1</td>\n",
       "      <td>0</td>\n",
       "      <td>0.000</td>\n",
       "    </tr>\n",
       "  </tbody>\n",
       "</table>\n",
       "</div>"
      ],
      "text/plain": [
       "   arrowRT distribution  interTrialInterval outcome  myCard  yourCard  \\\n",
       "0     1067      uniform                 894     win       3         9   \n",
       "1      237      uniform                 925    lose       2         1   \n",
       "2      231      uniform                 973     win       8         2   \n",
       "3      602      uniform                 768     win       7         2   \n",
       "4      273      uniform                 937     win       9         8   \n",
       "\n",
       "   spaceRT  totalReward  trialIndex trialType     choice  block  \\\n",
       "0     4575         10.5           0  response  arrowdown      1   \n",
       "1     1903         10.0           1  response  arrowdown      1   \n",
       "2     2130         10.5           2  response    arrowup      1   \n",
       "3     1537         11.0           3  response    arrowup      1   \n",
       "4     1809         11.5           4  response    arrowup      1   \n",
       "\n",
       "   timeoutRepeat   risk  \n",
       "0              0  0.250  \n",
       "1              0  0.125  \n",
       "2              0  0.125  \n",
       "3              0  0.250  \n",
       "4              0  0.000  "
      ]
     },
     "execution_count": 3,
     "metadata": {},
     "output_type": "execute_result"
    }
   ],
   "source": [
    "df_participants[2].head(5)"
   ]
  },
  {
   "cell_type": "code",
   "execution_count": 4,
   "id": "0edd5649",
   "metadata": {},
   "outputs": [
    {
     "data": {
      "application/vnd.microsoft.datawrangler.viewer.v0+json": {
       "columns": [
        {
         "name": "index",
         "rawType": "int64",
         "type": "integer"
        },
        {
         "name": "model_choices",
         "rawType": "int64",
         "type": "integer"
        },
        {
         "name": "participant_choices",
         "rawType": "int64",
         "type": "integer"
        },
        {
         "name": "model_total_reward",
         "rawType": "float64",
         "type": "float"
        },
        {
         "name": "participant_total_reward",
         "rawType": "float64",
         "type": "float"
        },
        {
         "name": "q_val",
         "rawType": "object",
         "type": "string"
        }
       ],
       "conversionMethod": "pd.DataFrame",
       "ref": "5a7f3e62-e29f-44a9-b659-9e2f8d9b6bc4",
       "rows": [
        [
         "0",
         "0",
         "0",
         "10.5",
         "10.5",
         "[[0.43389134356196246, 0.017257467260049387], [0.01896293914545855, 0.015385026099145617], [0.01589786030245047, 0.018450104942153697]]"
        ],
        [
         "1",
         "1",
         "0",
         "11.0",
         "10.0",
         "[[-0.3721534744619285, 0.017257467260049387], [0.01896293914545855, 0.015385026099145617], [0.01589786030245047, 0.018450104942153697]]"
        ],
        [
         "2",
         "1",
         "1",
         "11.5",
         "10.5",
         "[[-0.3721534744619285, 0.4339142010837617], [0.01896293914545855, 0.015385026099145617], [0.01589786030245047, 0.018450104942153697]]"
        ],
        [
         "3",
         "1",
         "1",
         "12.0",
         "11.0",
         "[[-0.3721534744619285, 0.49095308053009257], [0.01896293914545855, 0.015385026099145617], [0.01589786030245047, 0.018450104942153697]]"
        ],
        [
         "4",
         "1",
         "1",
         "12.5",
         "11.5",
         "[[-0.3721534744619285, 0.4987615077181903], [0.01896293914545855, 0.015385026099145617], [0.01589786030245047, 0.018450104942153697]]"
        ]
       ],
       "shape": {
        "columns": 5,
        "rows": 5
       }
      },
      "text/html": [
       "<div>\n",
       "<style scoped>\n",
       "    .dataframe tbody tr th:only-of-type {\n",
       "        vertical-align: middle;\n",
       "    }\n",
       "\n",
       "    .dataframe tbody tr th {\n",
       "        vertical-align: top;\n",
       "    }\n",
       "\n",
       "    .dataframe thead th {\n",
       "        text-align: right;\n",
       "    }\n",
       "</style>\n",
       "<table border=\"1\" class=\"dataframe\">\n",
       "  <thead>\n",
       "    <tr style=\"text-align: right;\">\n",
       "      <th></th>\n",
       "      <th>model_choices</th>\n",
       "      <th>participant_choices</th>\n",
       "      <th>model_total_reward</th>\n",
       "      <th>participant_total_reward</th>\n",
       "      <th>q_val</th>\n",
       "    </tr>\n",
       "  </thead>\n",
       "  <tbody>\n",
       "    <tr>\n",
       "      <th>0</th>\n",
       "      <td>0</td>\n",
       "      <td>0</td>\n",
       "      <td>10.5</td>\n",
       "      <td>10.5</td>\n",
       "      <td>[[0.43389134356196246, 0.017257467260049387], ...</td>\n",
       "    </tr>\n",
       "    <tr>\n",
       "      <th>1</th>\n",
       "      <td>1</td>\n",
       "      <td>0</td>\n",
       "      <td>11.0</td>\n",
       "      <td>10.0</td>\n",
       "      <td>[[-0.3721534744619285, 0.017257467260049387], ...</td>\n",
       "    </tr>\n",
       "    <tr>\n",
       "      <th>2</th>\n",
       "      <td>1</td>\n",
       "      <td>1</td>\n",
       "      <td>11.5</td>\n",
       "      <td>10.5</td>\n",
       "      <td>[[-0.3721534744619285, 0.4339142010837617], [0...</td>\n",
       "    </tr>\n",
       "    <tr>\n",
       "      <th>3</th>\n",
       "      <td>1</td>\n",
       "      <td>1</td>\n",
       "      <td>12.0</td>\n",
       "      <td>11.0</td>\n",
       "      <td>[[-0.3721534744619285, 0.49095308053009257], [...</td>\n",
       "    </tr>\n",
       "    <tr>\n",
       "      <th>4</th>\n",
       "      <td>1</td>\n",
       "      <td>1</td>\n",
       "      <td>12.5</td>\n",
       "      <td>11.5</td>\n",
       "      <td>[[-0.3721534744619285, 0.4987615077181903], [0...</td>\n",
       "    </tr>\n",
       "  </tbody>\n",
       "</table>\n",
       "</div>"
      ],
      "text/plain": [
       "   model_choices  participant_choices  model_total_reward  \\\n",
       "0              0                    0                10.5   \n",
       "1              1                    0                11.0   \n",
       "2              1                    1                11.5   \n",
       "3              1                    1                12.0   \n",
       "4              1                    1                12.5   \n",
       "\n",
       "   participant_total_reward                                              q_val  \n",
       "0                      10.5  [[0.43389134356196246, 0.017257467260049387], ...  \n",
       "1                      10.0  [[-0.3721534744619285, 0.017257467260049387], ...  \n",
       "2                      10.5  [[-0.3721534744619285, 0.4339142010837617], [0...  \n",
       "3                      11.0  [[-0.3721534744619285, 0.49095308053009257], [...  \n",
       "4                      11.5  [[-0.3721534744619285, 0.4987615077181903], [0...  "
      ]
     },
     "execution_count": 4,
     "metadata": {},
     "output_type": "execute_result"
    }
   ],
   "source": [
    "df_colors[2].head(5)"
   ]
  },
  {
   "cell_type": "code",
   "execution_count": 5,
   "id": "b2135230",
   "metadata": {},
   "outputs": [
    {
     "data": {
      "application/vnd.microsoft.datawrangler.viewer.v0+json": {
       "columns": [
        {
         "name": "index",
         "rawType": "int64",
         "type": "integer"
        },
        {
         "name": "model_choices",
         "rawType": "int64",
         "type": "integer"
        },
        {
         "name": "participant_choices",
         "rawType": "int64",
         "type": "integer"
        },
        {
         "name": "model_total_reward",
         "rawType": "float64",
         "type": "float"
        },
        {
         "name": "participant_total_reward",
         "rawType": "float64",
         "type": "float"
        },
        {
         "name": "q_val",
         "rawType": "object",
         "type": "string"
        }
       ],
       "conversionMethod": "pd.DataFrame",
       "ref": "3b69efd0-838b-4567-9db1-911be1096c1c",
       "rows": [
        [
         "0",
         "0",
         "0",
         "10.5",
         "10.5",
         "[[-0.005786009774610761, -0.00035645384750077297], [-0.005235268994845831, -0.0009071946272657036], [0.02846565353089078, -0.0017998251072089062], [-0.0030458497299726615, -0.0030966138921388726], [-0.0020833716821388607, -0.004059091939972673], [-0.0009539187996563557, -0.005188544822455178], [-0.00035264665888949307, -0.005789816963222041], [-0.00016012678889758953, -0.0059823368332139444], [-0.00593178962864147, -0.00021067399347006333]]"
        ],
        [
         "1",
         "1",
         "0",
         "11.0",
         "10.0",
         "[[-0.005786009774610761, -0.00035645384750077297], [-0.037420502899664435, -0.0009071946272657036], [0.02846565353089078, -0.0017998251072089062], [-0.0030458497299726615, -0.0030966138921388726], [-0.0020833716821388607, -0.004059091939972673], [-0.0009539187996563557, -0.005188544822455178], [-0.00035264665888949307, -0.005789816963222041], [-0.00016012678889758953, -0.0059823368332139444], [-0.00593178962864147, -0.00021067399347006333]]"
        ],
        [
         "2",
         "1",
         "1",
         "11.5",
         "10.5",
         "[[-0.005786009774610761, -0.00035645384750077297], [-0.037420502899664435, -0.0009071946272657036], [0.02846565353089078, -0.0017998251072089062], [-0.0030458497299726615, -0.0030966138921388726], [-0.0020833716821388607, -0.004059091939972673], [-0.0009539187996563557, -0.005188544822455178], [-0.00035264665888949307, -0.005789816963222041], [-0.00016012678889758953, 0.0269326202002009], [-0.00593178962864147, -0.00021067399347006333]]"
        ],
        [
         "3",
         "1",
         "1",
         "12.0",
         "11.0",
         "[[-0.005786009774610761, -0.00035645384750077297], [-0.037420502899664435, -0.0009071946272657036], [0.02846565353089078, -0.0017998251072089062], [-0.0030458497299726615, -0.0030966138921388726], [-0.0020833716821388607, -0.004059091939972673], [-0.0009539187996563557, -0.005188544822455178], [-0.00035264665888949307, 0.02711261634596851], [-0.00016012678889758953, 0.0269326202002009], [-0.00593178962864147, -0.00021067399347006333]]"
        ],
        [
         "4",
         "1",
         "1",
         "12.5",
         "11.5",
         "[[-0.005786009774610761, -0.00035645384750077297], [-0.037420502899664435, -0.0009071946272657036], [0.02846565353089078, -0.0017998251072089062], [-0.0030458497299726615, -0.0030966138921388726], [-0.0020833716821388607, -0.004059091939972673], [-0.0009539187996563557, -0.005188544822455178], [-0.00035264665888949307, 0.02711261634596851], [-0.00016012678889758953, 0.0269326202002009], [-0.00593178962864147, 0.0323288271780455]]"
        ]
       ],
       "shape": {
        "columns": 5,
        "rows": 5
       }
      },
      "text/html": [
       "<div>\n",
       "<style scoped>\n",
       "    .dataframe tbody tr th:only-of-type {\n",
       "        vertical-align: middle;\n",
       "    }\n",
       "\n",
       "    .dataframe tbody tr th {\n",
       "        vertical-align: top;\n",
       "    }\n",
       "\n",
       "    .dataframe thead th {\n",
       "        text-align: right;\n",
       "    }\n",
       "</style>\n",
       "<table border=\"1\" class=\"dataframe\">\n",
       "  <thead>\n",
       "    <tr style=\"text-align: right;\">\n",
       "      <th></th>\n",
       "      <th>model_choices</th>\n",
       "      <th>participant_choices</th>\n",
       "      <th>model_total_reward</th>\n",
       "      <th>participant_total_reward</th>\n",
       "      <th>q_val</th>\n",
       "    </tr>\n",
       "  </thead>\n",
       "  <tbody>\n",
       "    <tr>\n",
       "      <th>0</th>\n",
       "      <td>0</td>\n",
       "      <td>0</td>\n",
       "      <td>10.5</td>\n",
       "      <td>10.5</td>\n",
       "      <td>[[-0.005786009774610761, -0.000356453847500772...</td>\n",
       "    </tr>\n",
       "    <tr>\n",
       "      <th>1</th>\n",
       "      <td>1</td>\n",
       "      <td>0</td>\n",
       "      <td>11.0</td>\n",
       "      <td>10.0</td>\n",
       "      <td>[[-0.005786009774610761, -0.000356453847500772...</td>\n",
       "    </tr>\n",
       "    <tr>\n",
       "      <th>2</th>\n",
       "      <td>1</td>\n",
       "      <td>1</td>\n",
       "      <td>11.5</td>\n",
       "      <td>10.5</td>\n",
       "      <td>[[-0.005786009774610761, -0.000356453847500772...</td>\n",
       "    </tr>\n",
       "    <tr>\n",
       "      <th>3</th>\n",
       "      <td>1</td>\n",
       "      <td>1</td>\n",
       "      <td>12.0</td>\n",
       "      <td>11.0</td>\n",
       "      <td>[[-0.005786009774610761, -0.000356453847500772...</td>\n",
       "    </tr>\n",
       "    <tr>\n",
       "      <th>4</th>\n",
       "      <td>1</td>\n",
       "      <td>1</td>\n",
       "      <td>12.5</td>\n",
       "      <td>11.5</td>\n",
       "      <td>[[-0.005786009774610761, -0.000356453847500772...</td>\n",
       "    </tr>\n",
       "  </tbody>\n",
       "</table>\n",
       "</div>"
      ],
      "text/plain": [
       "   model_choices  participant_choices  model_total_reward  \\\n",
       "0              0                    0                10.5   \n",
       "1              1                    0                11.0   \n",
       "2              1                    1                11.5   \n",
       "3              1                    1                12.0   \n",
       "4              1                    1                12.5   \n",
       "\n",
       "   participant_total_reward                                              q_val  \n",
       "0                      10.5  [[-0.005786009774610761, -0.000356453847500772...  \n",
       "1                      10.0  [[-0.005786009774610761, -0.000356453847500772...  \n",
       "2                      10.5  [[-0.005786009774610761, -0.000356453847500772...  \n",
       "3                      11.0  [[-0.005786009774610761, -0.000356453847500772...  \n",
       "4                      11.5  [[-0.005786009774610761, -0.000356453847500772...  "
      ]
     },
     "execution_count": 5,
     "metadata": {},
     "output_type": "execute_result"
    }
   ],
   "source": [
    "df_numbers[2].head()"
   ]
  },
  {
   "cell_type": "code",
   "execution_count": 6,
   "id": "6c90eb16",
   "metadata": {},
   "outputs": [
    {
     "data": {
      "application/vnd.microsoft.datawrangler.viewer.v0+json": {
       "columns": [
        {
         "name": "index",
         "rawType": "int64",
         "type": "integer"
        },
        {
         "name": "model_choices",
         "rawType": "int64",
         "type": "integer"
        },
        {
         "name": "participant_choices",
         "rawType": "int64",
         "type": "integer"
        },
        {
         "name": "model_total_reward",
         "rawType": "float64",
         "type": "float"
        },
        {
         "name": "participant_total_reward",
         "rawType": "float64",
         "type": "float"
        },
        {
         "name": "q_val",
         "rawType": "object",
         "type": "string"
        }
       ],
       "conversionMethod": "pd.DataFrame",
       "ref": "d3cacee0-3148-4717-9b27-d79ea5f41316",
       "rows": [
        [
         "0",
         "0",
         "0",
         "10.5",
         "10.5",
         "[[[-0.02043867387785598, -0.0006723247986136835], [-0.019487075701356615, -0.0016239229751130512], [-0.020144082706555023, -0.0009669159699146411]], [[-0.02036907859518798, -0.0007419200812816814], [-0.015450467163218457, -0.005660531513251206], [-0.01998915816709205, -0.001121840509377615]], [[0.07729330792346545, -0.0014513811590072896], [-0.00736945623089361, -0.013741542445576054], [-0.020210917337550417, -0.0009000813389192492]], [[-0.010176259841052743, -0.010934738835416923], [-0.0035184997794116104, -0.017592498897058054], [-0.018046498868595037, -0.0030644998078746288]], [[-0.0027676004362444987, -0.018343398240225166], [-0.0024172899247866027, -0.018693708751683063], [-0.014222146476779563, -0.006888852199690101]], [[-0.0009743537850678307, -0.020136644891401833], [-0.0009743537850678307, -0.020136644891401833], [-0.006045643962776532, -0.015065354713693134]], [[-0.0007770919758209693, -0.020333906700648694], [-0.0008652048637897402, -0.02024579381267992], [-0.0015729763719722495, -0.019538022304497416]], [[-0.0005310943063262809, -0.020579904370143384], [-0.0007279654716024022, -0.020383033204867264], [-0.00054316463147006, -0.020567834044999605]], [[-0.020272151046941068, -0.0008388476295285959], [-0.0203985493428055, -0.0007124493336641627], [-0.020800542813580406, -0.0003104558628892598]]]"
        ],
        [
         "1",
         "1",
         "0",
         "11.0",
         "10.0",
         "[[[-0.02043867387785598, -0.0006723247986136835], [-0.019487075701356615, -0.0016239229751130512], [-0.020144082706555023, -0.0009669159699146411]], [[-0.1098538478452474, -0.0007419200812816814], [-0.015450467163218457, -0.005660531513251206], [-0.01998915816709205, -0.001121840509377615]], [[0.07729330792346545, -0.0014513811590072896], [-0.00736945623089361, -0.013741542445576054], [-0.020210917337550417, -0.0009000813389192492]], [[-0.010176259841052743, -0.010934738835416923], [-0.0035184997794116104, -0.017592498897058054], [-0.018046498868595037, -0.0030644998078746288]], [[-0.0027676004362444987, -0.018343398240225166], [-0.0024172899247866027, -0.018693708751683063], [-0.014222146476779563, -0.006888852199690101]], [[-0.0009743537850678307, -0.020136644891401833], [-0.0009743537850678307, -0.020136644891401833], [-0.006045643962776532, -0.015065354713693134]], [[-0.0007770919758209693, -0.020333906700648694], [-0.0008652048637897402, -0.02024579381267992], [-0.0015729763719722495, -0.019538022304497416]], [[-0.0005310943063262809, -0.020579904370143384], [-0.0007279654716024022, -0.020383033204867264], [-0.00054316463147006, -0.020567834044999605]], [[-0.020272151046941068, -0.0008388476295285959], [-0.0203985493428055, -0.0007124493336641627], [-0.020800542813580406, -0.0003104558628892598]]]"
        ],
        [
         "2",
         "1",
         "1",
         "11.5",
         "10.5",
         "[[[-0.02043867387785598, -0.0006723247986136835], [-0.019487075701356615, -0.0016239229751130512], [-0.020144082706555023, -0.0009669159699146411]], [[-0.1098538478452474, -0.0007419200812816814], [-0.015450467163218457, -0.005660531513251206], [-0.01998915816709205, -0.001121840509377615]], [[0.07729330792346545, -0.0014513811590072896], [-0.00736945623089361, -0.013741542445576054], [-0.020210917337550417, -0.0009000813389192492]], [[-0.010176259841052743, -0.010934738835416923], [-0.0035184997794116104, -0.017592498897058054], [-0.018046498868595037, -0.0030644998078746288]], [[-0.0027676004362444987, -0.018343398240225166], [-0.0024172899247866027, -0.018693708751683063], [-0.014222146476779563, -0.006888852199690101]], [[-0.0009743537850678307, -0.020136644891401833], [-0.0009743537850678307, -0.020136644891401833], [-0.006045643962776532, -0.015065354713693134]], [[-0.0007770919758209693, -0.020333906700648694], [-0.0008652048637897402, -0.02024579381267992], [-0.0015729763719722495, -0.019538022304497416]], [[-0.0005310943063262809, 0.07654471904308117], [-0.0007279654716024022, -0.020383033204867264], [-0.00054316463147006, -0.020567834044999605]], [[-0.020272151046941068, -0.0008388476295285959], [-0.0203985493428055, -0.0007124493336641627], [-0.020800542813580406, -0.0003104558628892598]]]"
        ],
        [
         "3",
         "1",
         "1",
         "12.0",
         "11.0",
         "[[[-0.02043867387785598, -0.0006723247986136835], [-0.019487075701356615, -0.0016239229751130512], [-0.020144082706555023, -0.0009669159699146411]], [[-0.1098538478452474, -0.0007419200812816814], [-0.015450467163218457, -0.005660531513251206], [-0.01998915816709205, -0.001121840509377615]], [[0.07729330792346545, -0.0014513811590072896], [-0.00736945623089361, -0.013741542445576054], [-0.020210917337550417, -0.0009000813389192492]], [[-0.010176259841052743, -0.010934738835416923], [-0.0035184997794116104, -0.017592498897058054], [-0.018046498868595037, -0.0030644998078746288]], [[-0.0027676004362444987, -0.018343398240225166], [-0.0024172899247866027, -0.018693708751683063], [-0.014222146476779563, -0.006888852199690101]], [[-0.0009743537850678307, -0.020136644891401833], [-0.0009743537850678307, -0.020136644891401833], [-0.006045643962776532, -0.015065354713693134]], [[-0.0007770919758209693, 0.07674482091289243], [-0.0008652048637897402, -0.02024579381267992], [-0.0015729763719722495, -0.019538022304497416]], [[-0.0005310943063262809, 0.07654471904308117], [-0.0007279654716024022, -0.020383033204867264], [-0.00054316463147006, -0.020567834044999605]], [[-0.020272151046941068, -0.0008388476295285959], [-0.0203985493428055, -0.0007124493336641627], [-0.020800542813580406, -0.0003104558628892598]]]"
        ],
        [
         "4",
         "1",
         "1",
         "12.5",
         "11.5",
         "[[[-0.02043867387785598, -0.0006723247986136835], [-0.019487075701356615, -0.0016239229751130512], [-0.020144082706555023, -0.0009669159699146411]], [[-0.1098538478452474, -0.0007419200812816814], [-0.015450467163218457, -0.005660531513251206], [-0.01998915816709205, -0.001121840509377615]], [[0.07729330792346545, -0.0014513811590072896], [-0.00736945623089361, -0.013741542445576054], [-0.020210917337550417, -0.0009000813389192492]], [[-0.010176259841052743, -0.010934738835416923], [-0.0035184997794116104, -0.017592498897058054], [-0.018046498868595037, -0.0030644998078746288]], [[-0.0027676004362444987, -0.018343398240225166], [-0.0024172899247866027, -0.018693708751683063], [-0.014222146476779563, -0.006888852199690101]], [[-0.0009743537850678307, -0.020136644891401833], [-0.0009743537850678307, -0.020136644891401833], [-0.006045643962776532, -0.015065354713693134]], [[-0.0007770919758209693, 0.07674482091289243], [-0.0008652048637897402, -0.02024579381267992], [-0.0015729763719722495, -0.019538022304497416]], [[-0.0005310943063262809, 0.07654471904308117], [-0.0007279654716024022, -0.020383033204867264], [-0.00054316463147006, -0.020567834044999605]], [[-0.020272151046941068, 0.09260268566512689], [-0.0203985493428055, -0.0007124493336641627], [-0.020800542813580406, -0.0003104558628892598]]]"
        ]
       ],
       "shape": {
        "columns": 5,
        "rows": 5
       }
      },
      "text/html": [
       "<div>\n",
       "<style scoped>\n",
       "    .dataframe tbody tr th:only-of-type {\n",
       "        vertical-align: middle;\n",
       "    }\n",
       "\n",
       "    .dataframe tbody tr th {\n",
       "        vertical-align: top;\n",
       "    }\n",
       "\n",
       "    .dataframe thead th {\n",
       "        text-align: right;\n",
       "    }\n",
       "</style>\n",
       "<table border=\"1\" class=\"dataframe\">\n",
       "  <thead>\n",
       "    <tr style=\"text-align: right;\">\n",
       "      <th></th>\n",
       "      <th>model_choices</th>\n",
       "      <th>participant_choices</th>\n",
       "      <th>model_total_reward</th>\n",
       "      <th>participant_total_reward</th>\n",
       "      <th>q_val</th>\n",
       "    </tr>\n",
       "  </thead>\n",
       "  <tbody>\n",
       "    <tr>\n",
       "      <th>0</th>\n",
       "      <td>0</td>\n",
       "      <td>0</td>\n",
       "      <td>10.5</td>\n",
       "      <td>10.5</td>\n",
       "      <td>[[[-0.02043867387785598, -0.000672324798613683...</td>\n",
       "    </tr>\n",
       "    <tr>\n",
       "      <th>1</th>\n",
       "      <td>1</td>\n",
       "      <td>0</td>\n",
       "      <td>11.0</td>\n",
       "      <td>10.0</td>\n",
       "      <td>[[[-0.02043867387785598, -0.000672324798613683...</td>\n",
       "    </tr>\n",
       "    <tr>\n",
       "      <th>2</th>\n",
       "      <td>1</td>\n",
       "      <td>1</td>\n",
       "      <td>11.5</td>\n",
       "      <td>10.5</td>\n",
       "      <td>[[[-0.02043867387785598, -0.000672324798613683...</td>\n",
       "    </tr>\n",
       "    <tr>\n",
       "      <th>3</th>\n",
       "      <td>1</td>\n",
       "      <td>1</td>\n",
       "      <td>12.0</td>\n",
       "      <td>11.0</td>\n",
       "      <td>[[[-0.02043867387785598, -0.000672324798613683...</td>\n",
       "    </tr>\n",
       "    <tr>\n",
       "      <th>4</th>\n",
       "      <td>1</td>\n",
       "      <td>1</td>\n",
       "      <td>12.5</td>\n",
       "      <td>11.5</td>\n",
       "      <td>[[[-0.02043867387785598, -0.000672324798613683...</td>\n",
       "    </tr>\n",
       "  </tbody>\n",
       "</table>\n",
       "</div>"
      ],
      "text/plain": [
       "   model_choices  participant_choices  model_total_reward  \\\n",
       "0              0                    0                10.5   \n",
       "1              1                    0                11.0   \n",
       "2              1                    1                11.5   \n",
       "3              1                    1                12.0   \n",
       "4              1                    1                12.5   \n",
       "\n",
       "   participant_total_reward                                              q_val  \n",
       "0                      10.5  [[[-0.02043867387785598, -0.000672324798613683...  \n",
       "1                      10.0  [[[-0.02043867387785598, -0.000672324798613683...  \n",
       "2                      10.5  [[[-0.02043867387785598, -0.000672324798613683...  \n",
       "3                      11.0  [[[-0.02043867387785598, -0.000672324798613683...  \n",
       "4                      11.5  [[[-0.02043867387785598, -0.000672324798613683...  "
      ]
     },
     "execution_count": 6,
     "metadata": {},
     "output_type": "execute_result"
    }
   ],
   "source": [
    "df_colors_numbers[2].head(5)"
   ]
  },
  {
   "cell_type": "markdown",
   "id": "87c6e474",
   "metadata": {},
   "source": [
    "# COLOR abs(delta q values) correlatation with spaceRT and arrowRT"
   ]
  },
  {
   "cell_type": "code",
   "execution_count": 22,
   "id": "1fac364e",
   "metadata": {},
   "outputs": [],
   "source": [
    "distributions_map = {\"uniform\": 0, \"low\": 1, \"high\": 2}\n",
    "actions = {\"arrowdown\": 0, \"arrowup\": 1}\n",
    "\n",
    "spaceRT_participants = []\n",
    "arrowRT_participants = []\n",
    "\n",
    "delta_q_val_uniform = []\n",
    "delta_q_val_low = []\n",
    "delta_q_val_high = []\n",
    "\n",
    "for df in df_participants:\n",
    "    spaceRT_normalized = np.array(df['spaceRT'], dtype=float) / np.mean(df['spaceRT'])\n",
    "    spaceRT_participants.append(spaceRT_normalized)\n",
    "\n",
    "    arrowRT_normalized = np.array(df['arrowRT'], dtype=float) / np.mean(df['arrowRT'])\n",
    "    arrowRT_participants.append(arrowRT_normalized)\n",
    "\n",
    "for df in df_colors:    \n",
    "    delta_uniform, delta_low, delta_high = [], [], []\n",
    "    temp_df = df['q_val']\n",
    "\n",
    "    for q_vals in temp_df:\n",
    "        temp_vec2 = np.array(ast.literal_eval(q_vals)) \n",
    "        delta = temp_vec2[:, actions[\"arrowup\"]] - temp_vec2[:, actions[\"arrowdown\"]]\n",
    "        delta_uniform.append(delta[distributions_map[\"uniform\"]])\n",
    "        delta_low.append(delta[distributions_map[\"low\"]])\n",
    "        delta_high.append(delta[distributions_map[\"high\"]])\n",
    "\n",
    "    delta_q_val_uniform.append(delta_uniform)\n",
    "    delta_q_val_low.append(delta_low)\n",
    "    delta_q_val_high.append(delta_high)\n"
   ]
  },
  {
   "cell_type": "code",
   "execution_count": null,
   "id": "eb2d6b9b",
   "metadata": {},
   "outputs": [
    {
     "data": {
      "image/png": "[encoded data removed]",
      "text/plain": [
       "<Figure size 2000x500 with 4 Axes>"
      ]
     },
     "metadata": {},
     "output_type": "display_data"
    }
   ],
   "source": [
    "spaceRT_participants = np.array(spaceRT_participants)\n",
    "arrowRT_participants = np.array(arrowRT_participants)\n",
    "\n",
    "# importannnttt: it's important that you find the abs value of delta q values\n",
    "delta_q_val_uniform = np.array(abs(delta_q_val_uniform))\n",
    "delta_q_val_low = np.array(abs(delta_q_val_low))\n",
    "delta_q_val_high = np.array(abs(delta_q_val_high))\n",
    "\n",
    "num_participants = spaceRT_participants.shape[0]\n",
    "\n",
    "correlations_spaceRT = np.zeros((num_participants, 3))\n",
    "correlations_arrowRT = np.zeros((num_participants, 3))\n",
    "p_values_spaceRT = np.zeros((num_participants, 3))\n",
    "p_values_arrowRT = np.zeros((num_participants, 3))\n",
    "\n",
    "for i in range(num_participants):\n",
    "    for j, delta_q_val in enumerate([delta_q_val_uniform, delta_q_val_low, delta_q_val_high]):\n",
    "        corr, p_val = pearsonr(spaceRT_participants[i, :], delta_q_val[i, :])\n",
    "        correlations_spaceRT[i, j] = corr\n",
    "        p_values_spaceRT[i, j] = p_val\n",
    "\n",
    "        corr, p_val = pearsonr(arrowRT_participants[i, :], delta_q_val[i, :])\n",
    "        correlations_arrowRT[i, j] = corr\n",
    "        p_values_arrowRT[i, j] = p_val\n",
    "\n",
    "####################################################################################################################\n",
    "####################################################################################################################\n",
    "\n",
    "correlations_spaceRT = correlations_spaceRT.T\n",
    "correlations_arrowRT = correlations_arrowRT.T\n",
    "p_values_spaceRT = p_values_spaceRT.T\n",
    "p_values_arrowRT = p_values_arrowRT.T\n",
    "\n",
    "annot_spaceRT = np.array([[\"*\" if p_values_spaceRT[j, i] < 0.05 else \"\" \n",
    "                            for i in range(num_participants)] for j in range(3)])\n",
    "annot_arrowRT = np.array([[\"*\" if p_values_arrowRT[j, i] < 0.05 else \"\" \n",
    "                            for i in range(num_participants)] for j in range(3)])\n",
    "\n",
    "\n",
    "\n",
    "fig, axes = plt.subplots(2, 1, figsize=(20, 5), gridspec_kw={'hspace': 0.8})\n",
    "\n",
    "xticklabels = [f'p{i+1}' for i in range(num_participants)]\n",
    "yticklabels = ['uniform', 'low', 'high']\n",
    "\n",
    "sns.heatmap(correlations_spaceRT, cmap='coolwarm', linewidths=0.5,\n",
    "            xticklabels=xticklabels, yticklabels=yticklabels,\n",
    "            cbar=True, vmin=-0.4, vmax=0.4, ax=axes[0],\n",
    "            cbar_kws={'pad': 0.02}, annot=annot_spaceRT, fmt='')\n",
    "axes[0].set_title(\"spaceRT\", fontsize=14, fontweight='bold')\n",
    "\n",
    "sns.heatmap(correlations_arrowRT, cmap='coolwarm', linewidths=0.5,\n",
    "            xticklabels=xticklabels, yticklabels=yticklabels,\n",
    "            cbar=True, vmin=-0.4, vmax=0.4, ax=axes[1],\n",
    "            cbar_kws={'pad': 0.02}, annot=annot_arrowRT, fmt='')\n",
    "axes[1].set_title(\"arrowRT\", fontsize=14, fontweight='bold')\n",
    "\n",
    "fig.suptitle('Δq-values [q(up)-q(down)] and RTs correlations', fontsize=16, fontweight='bold', y=0.99)\n",
    "\n",
    "\n",
    "plt.tight_layout(rect=[0, 0, 1, 1])\n",
    "\n",
    "filename = os.path.join(output_dir, \"correlation_qVal_spaceRT_arrowRT_colors.pdf\")\n",
    "plt.savefig(filename, format='pdf')\n",
    "\n",
    "plt.show()\n"
   ]
  },
  {
   "cell_type": "markdown",
   "id": "afcf0ed3",
   "metadata": {},
   "source": [
    "# NUMBERS abs(delta q values) correlatation with spaceRT and arrowRT "
   ]
  },
  {
   "cell_type": "code",
   "execution_count": null,
   "id": "6b6e709c",
   "metadata": {},
   "outputs": [],
   "source": []
  },
  {
   "cell_type": "markdown",
   "id": "c6b21227",
   "metadata": {},
   "source": [
    "# BOTH abs(delta q values) correlatation with spaceRT and arrowRT "
   ]
  },
  {
   "cell_type": "code",
   "execution_count": null,
   "id": "0062f943",
   "metadata": {},
   "outputs": [],
   "source": []
  },
  {
   "cell_type": "code",
   "execution_count": null,
   "id": "276feeb9",
   "metadata": {},
   "outputs": [],
   "source": []
  },
  {
   "cell_type": "code",
   "execution_count": null,
   "id": "da805d02",
   "metadata": {},
   "outputs": [],
   "source": []
  }
 ],
 "metadata": {
  "kernelspec": {
   "display_name": "base",
   "language": "python",
   "name": "python3"
  },
  "language_info": {
   "codemirror_mode": {
    "name": "ipython",
    "version": 3
   },
   "file_extension": ".py",
   "mimetype": "text/x-python",
   "name": "python",
   "nbconvert_exporter": "python",
   "pygments_lexer": "ipython3",
   "version": "3.12.7"
  }
 },
 "nbformat": 4,
 "nbformat_minor": 5
}
