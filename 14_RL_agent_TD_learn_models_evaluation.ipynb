{
 "cells": [
  {
   "cell_type": "markdown",
   "id": "3460432c",
   "metadata": {},
   "source": [
    "# model comparison"
   ]
  },
  {
   "cell_type": "code",
   "execution_count": 1,
   "id": "9d88a4d6-96e0-4f0b-b75e-d2b236148054",
   "metadata": {},
   "outputs": [],
   "source": [
    "import numpy as np\n",
    "import matplotlib.pyplot as plt\n",
    "import pandas as pd\n",
    "import os"
   ]
  },
  {
   "cell_type": "markdown",
   "id": "7bce6aab",
   "metadata": {},
   "source": [
    "# BIC and mcFadden_R2\n",
    "the first way to compare models is bayesian information criterion; BICs don't have a meaning by themselves it's the delta BIC between models that decides which model in better. the model with smaller BIC explains the behavior better.\n",
    "## interpretation:\n",
    "\n",
    "about BIC difference absolute amount:\n",
    "0–2: Not worth more than a bare mention\n",
    "2–6: good\n",
    "6–10: Strong\n",
    "+10: Very strong"
   ]
  },
  {
   "cell_type": "code",
   "execution_count": 2,
   "id": "e2148319",
   "metadata": {},
   "outputs": [
    {
     "data": {
      "application/vnd.microsoft.datawrangler.viewer.v0+json": {
       "columns": [
        {
         "name": "index",
         "rawType": "int64",
         "type": "integer"
        },
        {
         "name": "participants",
         "rawType": "object",
         "type": "string"
        },
        {
         "name": "best_alpha",
         "rawType": "float64",
         "type": "float"
        },
        {
         "name": "best_beta",
         "rawType": "float64",
         "type": "float"
        },
        {
         "name": "BIC",
         "rawType": "float64",
         "type": "float"
        },
        {
         "name": "accuracy",
         "rawType": "float64",
         "type": "float"
        },
        {
         "name": "precision",
         "rawType": "float64",
         "type": "float"
        },
        {
         "name": "sensitivity_recall",
         "rawType": "float64",
         "type": "float"
        },
        {
         "name": "specificity",
         "rawType": "float64",
         "type": "float"
        },
        {
         "name": "f1_score",
         "rawType": "float64",
         "type": "float"
        },
        {
         "name": "mcFadden_r2",
         "rawType": "float64",
         "type": "float"
        },
        {
         "name": "r2",
         "rawType": "float64",
         "type": "float"
        }
       ],
       "conversionMethod": "pd.DataFrame",
       "ref": "0a959785-28d7-46c3-b664-78b1c5004a62",
       "rows": [
        [
         "0",
         "07_11_2024_17_23_43",
         "0.1865700588860358",
         "7.920430800834106",
         "250.6726541138153",
         "0.8",
         "0.7532467532467533",
         "0.8787878787878788",
         "0.7246376811594203",
         "0.8111888111888111",
         "0.3599746504253039",
         "0.1996047430830038"
        ],
        [
         "1",
         "08_11_2024_13_03_29",
         "0.2279351625419417",
         "7.920430800834106",
         "252.5841958698444",
         "0.8407407407407408",
         "0.8414634146341463",
         "0.8903225806451613",
         "0.7739130434782608",
         "0.8652037617554857",
         "0.3446823682687285",
         "0.3486676016830294"
        ],
        [
         "2",
         "11_11_2024_16_46_44",
         "0.1865700588860358",
         "7.920430800834106",
         "237.98621728009968",
         "0.8666666666666667",
         "0.8391608391608392",
         "0.9022556390977444",
         "0.8321167883211679",
         "0.8695652173913043",
         "0.394000527948301",
         "0.4665495856429394"
        ]
       ],
       "shape": {
        "columns": 11,
        "rows": 3
       }
      },
      "text/html": [
       "<div>\n",
       "<style scoped>\n",
       "    .dataframe tbody tr th:only-of-type {\n",
       "        vertical-align: middle;\n",
       "    }\n",
       "\n",
       "    .dataframe tbody tr th {\n",
       "        vertical-align: top;\n",
       "    }\n",
       "\n",
       "    .dataframe thead th {\n",
       "        text-align: right;\n",
       "    }\n",
       "</style>\n",
       "<table border=\"1\" class=\"dataframe\">\n",
       "  <thead>\n",
       "    <tr style=\"text-align: right;\">\n",
       "      <th></th>\n",
       "      <th>participants</th>\n",
       "      <th>best_alpha</th>\n",
       "      <th>best_beta</th>\n",
       "      <th>BIC</th>\n",
       "      <th>accuracy</th>\n",
       "      <th>precision</th>\n",
       "      <th>sensitivity_recall</th>\n",
       "      <th>specificity</th>\n",
       "      <th>f1_score</th>\n",
       "      <th>mcFadden_r2</th>\n",
       "      <th>r2</th>\n",
       "    </tr>\n",
       "  </thead>\n",
       "  <tbody>\n",
       "    <tr>\n",
       "      <th>0</th>\n",
       "      <td>07_11_2024_17_23_43</td>\n",
       "      <td>0.186570</td>\n",
       "      <td>7.920431</td>\n",
       "      <td>250.672654</td>\n",
       "      <td>0.800000</td>\n",
       "      <td>0.753247</td>\n",
       "      <td>0.878788</td>\n",
       "      <td>0.724638</td>\n",
       "      <td>0.811189</td>\n",
       "      <td>0.359975</td>\n",
       "      <td>0.199605</td>\n",
       "    </tr>\n",
       "    <tr>\n",
       "      <th>1</th>\n",
       "      <td>08_11_2024_13_03_29</td>\n",
       "      <td>0.227935</td>\n",
       "      <td>7.920431</td>\n",
       "      <td>252.584196</td>\n",
       "      <td>0.840741</td>\n",
       "      <td>0.841463</td>\n",
       "      <td>0.890323</td>\n",
       "      <td>0.773913</td>\n",
       "      <td>0.865204</td>\n",
       "      <td>0.344682</td>\n",
       "      <td>0.348668</td>\n",
       "    </tr>\n",
       "    <tr>\n",
       "      <th>2</th>\n",
       "      <td>11_11_2024_16_46_44</td>\n",
       "      <td>0.186570</td>\n",
       "      <td>7.920431</td>\n",
       "      <td>237.986217</td>\n",
       "      <td>0.866667</td>\n",
       "      <td>0.839161</td>\n",
       "      <td>0.902256</td>\n",
       "      <td>0.832117</td>\n",
       "      <td>0.869565</td>\n",
       "      <td>0.394001</td>\n",
       "      <td>0.466550</td>\n",
       "    </tr>\n",
       "  </tbody>\n",
       "</table>\n",
       "</div>"
      ],
      "text/plain": [
       "          participants  best_alpha  best_beta         BIC  accuracy  \\\n",
       "0  07_11_2024_17_23_43    0.186570   7.920431  250.672654  0.800000   \n",
       "1  08_11_2024_13_03_29    0.227935   7.920431  252.584196  0.840741   \n",
       "2  11_11_2024_16_46_44    0.186570   7.920431  237.986217  0.866667   \n",
       "\n",
       "   precision  sensitivity_recall  specificity  f1_score  mcFadden_r2        r2  \n",
       "0   0.753247            0.878788     0.724638  0.811189     0.359975  0.199605  \n",
       "1   0.841463            0.890323     0.773913  0.865204     0.344682  0.348668  \n",
       "2   0.839161            0.902256     0.832117  0.869565     0.394001  0.466550  "
      ]
     },
     "execution_count": 2,
     "metadata": {},
     "output_type": "execute_result"
    }
   ],
   "source": [
    "output_dir = r\"14_15_RL_agent_TDlearn_output\"\n",
    "\n",
    "file_see_colors = \"11_RL_agent_TDlearn_output/models_evaluation.csv\"\n",
    "file_see_numbers = \"12_RL_agent_TDlearn_output/models_evaluation.csv\"\n",
    "file_see_colors_and_numbers = \"13_RL_agent_TDlearn_output/models_evaluation.csv\"\n",
    "\n",
    "\n",
    "df_see_colors = pd.read_csv(file_see_colors)\n",
    "df_see_numbers = pd.read_csv(file_see_numbers)\n",
    "df_see_colors_and_numbers = pd.read_csv(file_see_colors_and_numbers)\n",
    "df_see_colors_and_numbers.head(3)"
   ]
  },
  {
   "cell_type": "markdown",
   "id": "8ab1ca94",
   "metadata": {},
   "source": [
    "# BIC and R2 calculations"
   ]
  },
  {
   "cell_type": "code",
   "execution_count": 3,
   "id": "299817f9",
   "metadata": {},
   "outputs": [],
   "source": [
    "bic_see_colors = df_see_colors[\"BIC\"]\n",
    "bic_see_numbers = df_see_numbers[\"BIC\"]\n",
    "bic_sees_colors_and_numbers = df_see_colors_and_numbers[\"BIC\"]\n",
    "\n",
    "mcFadden_r2_see_colors = df_see_colors[\"mcFadden_r2\"]\n",
    "mcFadden_r2_see_numbers = df_see_numbers[\"mcFadden_r2\"]\n",
    "mcFadden_r2_sees_colors_and_numbers = df_see_colors_and_numbers[\"mcFadden_r2\"]\n",
    "\n",
    "delta_bic_see_colors_see_numbers = bic_see_colors - bic_see_numbers\n",
    "delta_bic_see_colors_and_numbers_see_colors = bic_see_colors - bic_sees_colors_and_numbers\n",
    "delta_bic_see_colors_and_numbers_see_numbers = bic_see_numbers - bic_sees_colors_and_numbers\n",
    "\n",
    "delta_mcFadden_r2_see_colors_see_numbers = mcFadden_r2_see_colors - mcFadden_r2_see_numbers\n",
    "delta_mcFadden_r2_see_colors_and_numbers_see_colors = mcFadden_r2_see_colors - mcFadden_r2_sees_colors_and_numbers\n",
    "delta_mcFadden_r2_see_colors_and_numbers_see_numbers = mcFadden_r2_see_numbers - mcFadden_r2_sees_colors_and_numbers\n",
    "\n"
   ]
  },
  {
   "cell_type": "markdown",
   "id": "42642788",
   "metadata": {},
   "source": [
    "# visualizations"
   ]
  },
  {
   "cell_type": "code",
   "execution_count": 4,
   "id": "87e3cc15",
   "metadata": {},
   "outputs": [
    {
     "name": "stdout",
     "output_type": "stream",
     "text": [
      "Saved: 14_15_RL_agent_TDlearn_output/models_evaluation_comparison.pdf\n"
     ]
    },
    {
     "data": {
      "image/png": "[encoded data removed]",
      "text/plain": [
       "<Figure size 800x500 with 2 Axes>"
      ]
     },
     "metadata": {},
     "output_type": "display_data"
    }
   ],
   "source": [
    "fig, axs = plt.subplots(1, 2, figsize=(8, 5))\n",
    "\n",
    "bic_deltas = [delta_bic_see_colors_see_numbers, delta_bic_see_colors_and_numbers_see_colors, delta_bic_see_colors_and_numbers_see_numbers]\n",
    "mcFadden_r2_deltas = [delta_mcFadden_r2_see_colors_see_numbers, delta_mcFadden_r2_see_colors_and_numbers_see_colors, delta_mcFadden_r2_see_colors_and_numbers_see_numbers]\n",
    "\n",
    "bic_labels = [\"colors - numbers\", \"colors - both\", \"numbers - both\"]\n",
    "mcFadden_labels = [\"colors - numbers\", \"colors - both\", \"numbers - both\"]\n",
    "\n",
    "box_bic = axs[0].boxplot(\n",
    "    bic_deltas, vert=True, patch_artist=True, tick_labels=bic_labels, \n",
    "    showmeans=False, \n",
    "    medianprops={'color': 'black', 'linewidth': 1.5}  \n",
    ")\n",
    "\n",
    "box_mcFadden = axs[1].boxplot(\n",
    "    mcFadden_r2_deltas, vert=True, patch_artist=True, tick_labels=mcFadden_labels, \n",
    "    showmeans=False, \n",
    "    medianprops={'color': 'black', 'linewidth': 1.5}  \n",
    ")\n",
    "\n",
    "for box in box_bic['boxes']:\n",
    "    box.set(facecolor='none')\n",
    "for box in box_mcFadden['boxes']:\n",
    "    box.set(facecolor='none')\n",
    "\n",
    "scatter_colors = ['#8b0000', '#006400', '#5e81ac']\n",
    "\n",
    "for i, delta in enumerate(bic_deltas):\n",
    "    axs[0].scatter(np.random.normal(i + 1, 0.05, size=len(delta)), delta, alpha=0.5, s=10, color=scatter_colors[i])\n",
    "axs[0].set_title(\"ΔBIC\", fontsize=16, fontweight='bold')\n",
    "axs[0].set_ylabel(\"ΔBIC\", fontsize=14, fontweight='bold')\n",
    "\n",
    "for i, delta in enumerate(mcFadden_r2_deltas):\n",
    "    axs[1].scatter(np.random.normal(i + 1, 0.05, size=len(delta)), delta, alpha=0.5, s=10, color=scatter_colors[i])\n",
    "axs[1].set_title(\"ΔmcFadden r²\", fontsize=16, fontweight='bold')\n",
    "axs[1].set_ylabel(\"ΔmcFadden r²\", fontsize=14, fontweight='bold')\n",
    "\n",
    "for ax in axs:\n",
    "    ax.spines['top'].set_visible(False)\n",
    "    ax.spines['right'].set_visible(False)\n",
    "\n",
    "for ax in axs:\n",
    "    ax.tick_params(axis='y', labelsize=10)\n",
    "    for label in ax.get_xticklabels() + ax.get_yticklabels():\n",
    "        label.set_fontweight('bold')\n",
    "\n",
    "axs[0].set_xticklabels(ax.get_xticklabels(), rotation=45, ha='right')\n",
    "axs[1].set_xticklabels(ax.get_xticklabels(), rotation=45, ha='right')\n",
    "\n",
    "fig.suptitle('Comparing Models', fontsize=18, fontweight='bold', y=0.85)\n",
    "\n",
    "plt.tight_layout(rect=[0, 0, 1, 0.9]) \n",
    "\n",
    "filename = os.path.join(output_dir, \"models_evaluation_comparison.pdf\")\n",
    "plt.savefig(filename, format='pdf')\n",
    "print(f\"Saved: {filename}\")\n",
    "\n",
    "plt.show()\n"
   ]
  },
  {
   "cell_type": "code",
   "execution_count": null,
   "id": "97e259fa",
   "metadata": {},
   "outputs": [],
   "source": []
  }
 ],
 "metadata": {
  "kernelspec": {
   "display_name": "base",
   "language": "python",
   "name": "python3"
  },
  "language_info": {
   "codemirror_mode": {
    "name": "ipython",
    "version": 3
   },
   "file_extension": ".py",
   "mimetype": "text/x-python",
   "name": "python",
   "nbconvert_exporter": "python",
   "pygments_lexer": "ipython3",
   "version": "3.9.13"
  }
 },
 "nbformat": 4,
 "nbformat_minor": 5
}
