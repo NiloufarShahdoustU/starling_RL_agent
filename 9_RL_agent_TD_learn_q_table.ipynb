{
 "cells": [
  {
   "cell_type": "markdown",
   "id": "84a6988d",
   "metadata": {},
   "source": [
    "# TD learning blind agent\n",
    "\n",
    "in this version we only update q-values based on different rewards. that's it!"
   ]
  },
  {
   "cell_type": "code",
   "execution_count": 5,
   "id": "c7001df8",
   "metadata": {},
   "outputs": [],
   "source": [
    "import os\n",
    "import numpy as np\n",
    "import pandas as pd\n",
    "import matplotlib.pyplot as plt\n",
    "import seaborn as sns\n",
    "import statsmodels.api as sm\n"
   ]
  },
  {
   "cell_type": "markdown",
   "id": "438cc3e4",
   "metadata": {},
   "source": [
    "# reading data"
   ]
  },
  {
   "cell_type": "code",
   "execution_count": 2,
   "id": "61d47cf8",
   "metadata": {},
   "outputs": [
    {
     "name": "stdout",
     "output_type": "stream",
     "text": [
      "There are 31 participants.\n"
     ]
    },
    {
     "data": {
      "application/vnd.microsoft.datawrangler.viewer.v0+json": {
       "columns": [
        {
         "name": "index",
         "rawType": "int64",
         "type": "integer"
        },
        {
         "name": "arrowRT",
         "rawType": "object",
         "type": "unknown"
        },
        {
         "name": "distribution",
         "rawType": "object",
         "type": "string"
        },
        {
         "name": "interTrialInterval",
         "rawType": "int64",
         "type": "integer"
        },
        {
         "name": "outcome",
         "rawType": "object",
         "type": "string"
        },
        {
         "name": "myCard",
         "rawType": "int64",
         "type": "integer"
        },
        {
         "name": "yourCard",
         "rawType": "int64",
         "type": "integer"
        },
        {
         "name": "spaceRT",
         "rawType": "int64",
         "type": "integer"
        },
        {
         "name": "totalReward",
         "rawType": "object",
         "type": "unknown"
        },
        {
         "name": "trialIndex",
         "rawType": "int64",
         "type": "integer"
        },
        {
         "name": "trialType",
         "rawType": "object",
         "type": "string"
        },
        {
         "name": "choice",
         "rawType": "object",
         "type": "string"
        },
        {
         "name": "block",
         "rawType": "int64",
         "type": "integer"
        },
        {
         "name": "timeoutRepeat",
         "rawType": "int64",
         "type": "integer"
        },
        {
         "name": "risk",
         "rawType": "float64",
         "type": "float"
        }
       ],
       "conversionMethod": "pd.DataFrame",
       "ref": "ceb4eed9-b527-4e40-984c-db5913ea64ad",
       "rows": [
        [
         "0",
         "570",
         "uniform",
         "831",
         "lose",
         "5",
         "2",
         "2209",
         "9.5",
         "0",
         "response",
         "arrowdown",
         "1",
         "0",
         "0.5"
        ],
        [
         "1",
         "1162",
         "uniform",
         "901",
         "lose",
         "4",
         "3",
         "5755",
         "9",
         "1",
         "response",
         "arrowdown",
         "1",
         "0",
         "0.375"
        ],
        [
         "2",
         "355",
         "uniform",
         "939",
         "win",
         "4",
         "6",
         "1209",
         "9.5",
         "2",
         "response",
         "arrowdown",
         "1",
         "0",
         "0.375"
        ],
        [
         "3",
         "1163",
         "uniform",
         "828",
         "win",
         "7",
         "5",
         "1997",
         "10",
         "3",
         "response",
         "arrowup",
         "1",
         "0",
         "0.25"
        ],
        [
         "4",
         "299",
         "uniform",
         "776",
         "win",
         "3",
         "9",
         "1324",
         "10.5",
         "4",
         "response",
         "arrowdown",
         "1",
         "0",
         "0.25"
        ]
       ],
       "shape": {
        "columns": 14,
        "rows": 5
       }
      },
      "text/html": [
       "<div>\n",
       "<style scoped>\n",
       "    .dataframe tbody tr th:only-of-type {\n",
       "        vertical-align: middle;\n",
       "    }\n",
       "\n",
       "    .dataframe tbody tr th {\n",
       "        vertical-align: top;\n",
       "    }\n",
       "\n",
       "    .dataframe thead th {\n",
       "        text-align: right;\n",
       "    }\n",
       "</style>\n",
       "<table border=\"1\" class=\"dataframe\">\n",
       "  <thead>\n",
       "    <tr style=\"text-align: right;\">\n",
       "      <th></th>\n",
       "      <th>arrowRT</th>\n",
       "      <th>distribution</th>\n",
       "      <th>interTrialInterval</th>\n",
       "      <th>outcome</th>\n",
       "      <th>myCard</th>\n",
       "      <th>yourCard</th>\n",
       "      <th>spaceRT</th>\n",
       "      <th>totalReward</th>\n",
       "      <th>trialIndex</th>\n",
       "      <th>trialType</th>\n",
       "      <th>choice</th>\n",
       "      <th>block</th>\n",
       "      <th>timeoutRepeat</th>\n",
       "      <th>risk</th>\n",
       "    </tr>\n",
       "  </thead>\n",
       "  <tbody>\n",
       "    <tr>\n",
       "      <th>0</th>\n",
       "      <td>570</td>\n",
       "      <td>uniform</td>\n",
       "      <td>831</td>\n",
       "      <td>lose</td>\n",
       "      <td>5</td>\n",
       "      <td>2</td>\n",
       "      <td>2209</td>\n",
       "      <td>9.5</td>\n",
       "      <td>0</td>\n",
       "      <td>response</td>\n",
       "      <td>arrowdown</td>\n",
       "      <td>1</td>\n",
       "      <td>0</td>\n",
       "      <td>0.500</td>\n",
       "    </tr>\n",
       "    <tr>\n",
       "      <th>1</th>\n",
       "      <td>1162</td>\n",
       "      <td>uniform</td>\n",
       "      <td>901</td>\n",
       "      <td>lose</td>\n",
       "      <td>4</td>\n",
       "      <td>3</td>\n",
       "      <td>5755</td>\n",
       "      <td>9</td>\n",
       "      <td>1</td>\n",
       "      <td>response</td>\n",
       "      <td>arrowdown</td>\n",
       "      <td>1</td>\n",
       "      <td>0</td>\n",
       "      <td>0.375</td>\n",
       "    </tr>\n",
       "    <tr>\n",
       "      <th>2</th>\n",
       "      <td>355</td>\n",
       "      <td>uniform</td>\n",
       "      <td>939</td>\n",
       "      <td>win</td>\n",
       "      <td>4</td>\n",
       "      <td>6</td>\n",
       "      <td>1209</td>\n",
       "      <td>9.5</td>\n",
       "      <td>2</td>\n",
       "      <td>response</td>\n",
       "      <td>arrowdown</td>\n",
       "      <td>1</td>\n",
       "      <td>0</td>\n",
       "      <td>0.375</td>\n",
       "    </tr>\n",
       "    <tr>\n",
       "      <th>3</th>\n",
       "      <td>1163</td>\n",
       "      <td>uniform</td>\n",
       "      <td>828</td>\n",
       "      <td>win</td>\n",
       "      <td>7</td>\n",
       "      <td>5</td>\n",
       "      <td>1997</td>\n",
       "      <td>10</td>\n",
       "      <td>3</td>\n",
       "      <td>response</td>\n",
       "      <td>arrowup</td>\n",
       "      <td>1</td>\n",
       "      <td>0</td>\n",
       "      <td>0.250</td>\n",
       "    </tr>\n",
       "    <tr>\n",
       "      <th>4</th>\n",
       "      <td>299</td>\n",
       "      <td>uniform</td>\n",
       "      <td>776</td>\n",
       "      <td>win</td>\n",
       "      <td>3</td>\n",
       "      <td>9</td>\n",
       "      <td>1324</td>\n",
       "      <td>10.5</td>\n",
       "      <td>4</td>\n",
       "      <td>response</td>\n",
       "      <td>arrowdown</td>\n",
       "      <td>1</td>\n",
       "      <td>0</td>\n",
       "      <td>0.250</td>\n",
       "    </tr>\n",
       "  </tbody>\n",
       "</table>\n",
       "</div>"
      ],
      "text/plain": [
       "  arrowRT distribution  interTrialInterval outcome  myCard  yourCard  spaceRT  \\\n",
       "0     570      uniform                 831    lose       5         2     2209   \n",
       "1    1162      uniform                 901    lose       4         3     5755   \n",
       "2     355      uniform                 939     win       4         6     1209   \n",
       "3    1163      uniform                 828     win       7         5     1997   \n",
       "4     299      uniform                 776     win       3         9     1324   \n",
       "\n",
       "  totalReward  trialIndex trialType     choice  block  timeoutRepeat   risk  \n",
       "0         9.5           0  response  arrowdown      1              0  0.500  \n",
       "1           9           1  response  arrowdown      1              0  0.375  \n",
       "2         9.5           2  response  arrowdown      1              0  0.375  \n",
       "3          10           3  response    arrowup      1              0  0.250  \n",
       "4        10.5           4  response  arrowdown      1              0  0.250  "
      ]
     },
     "execution_count": 2,
     "metadata": {},
     "output_type": "execute_result"
    }
   ],
   "source": [
    "\n",
    "folder_path = 'data_risk_added'\n",
    "dataframes = []\n",
    "\n",
    "for file_name in os.listdir(folder_path):\n",
    "    if file_name.endswith('.xlsx'):\n",
    "        file_path = os.path.join(folder_path, file_name)\n",
    "        df = pd.read_excel(file_path)\n",
    "        dataframes.append(df)\n",
    "\n",
    "\n",
    "n_participant = len(dataframes)\n",
    "print(f\"There are {n_participant} participants.\")\n",
    "\n",
    "\n",
    "dataframes[0].head(5)\n"
   ]
  },
  {
   "cell_type": "code",
   "execution_count": null,
   "id": "61c92740",
   "metadata": {},
   "outputs": [
    {
     "data": {
      "image/png": "[encoded data removed]",
      "text/plain": [
       "<Figure size 640x480 with 1 Axes>"
      ]
     },
     "metadata": {},
     "output_type": "display_data"
    },
    {
     "name": "stdout",
     "output_type": "stream",
     "text": [
      "Best Alpha: 0.01, Best Inverse Temperature: 40.4418\n"
     ]
    }
   ],
   "source": [
    "df_all = dataframes[20]\n",
    "df_all = df_all[df_all['outcome'].str.lower() != 'na']  \n",
    "\n",
    "actions = {\"arrowup\": 1, \"arrowdown\": 0}\n",
    "\n",
    "# Initialize  q-table (considering ONLY actions)\n",
    "Q_table = np.array([0.0, 0.0])  # Q-values for actions [arrowdown, arrowup]\n",
    "\n",
    "# Hyperparameters\n",
    "alphas = np.linspace(0.01, 1, 10)  # Different learning rates\n",
    "best_alpha = None\n",
    "best_inverse_temp = 0\n",
    "\n",
    "# Function to train Q-learning without state-based indexing\n",
    "def train_q_learning(df, alpha):\n",
    "    Q_values = Q_table.copy()  # Copy Q-table\n",
    "    q_value_pairs = []  # Store both Q-values for each trial\n",
    "    choices = []  # Store subject's real choices\n",
    "\n",
    "    for _, row in df.iterrows():\n",
    "        action = actions[row[\"choice\"]]  # Convert choice to 0 (arrowdown) or 1 (arrowup)\n",
    "        reward = 0.5 if row[\"outcome\"] == \"win\" else -0.5  # Reward directly from outcome\n",
    "\n",
    "        # Q-learning update (no states, only actions)\n",
    "        Q_values[action] += alpha * (reward - Q_values[action])\n",
    "\n",
    "        # Store both Q-values as predictors\n",
    "        q_value_pairs.append(Q_values.copy())  # Save both Q-values\n",
    "        choices.append(action)\n",
    "\n",
    "    return np.array(q_value_pairs), np.array(choices)\n",
    "\n",
    "# Store inverse temperature results\n",
    "alpha_inverse_temp = {}\n",
    "\n",
    "# Train for each alpha and compute logistic regression slope\n",
    "for alpha in alphas:\n",
    "    q_values, choices = train_q_learning(df_all, alpha)\n",
    "\n",
    "    # Prepare feature matrix: Q[0] and Q[1] as separate columns\n",
    "    X = np.column_stack((q_values[:, 0], q_values[:, 1]))  # Q-values as separate predictors\n",
    "    X = sm.add_constant(X)  # Add intercept term\n",
    "\n",
    "    # Logistic Regression: Predict choice using **both Q-values as separate features**\n",
    "    model = sm.Logit(choices, X).fit(disp=0)  \n",
    "    \n",
    "    # Extract absolute slopes (inverse temperatures for Q[0] and Q[1])\n",
    "    inverse_temp = np.abs(model.params[1:]).sum()  # Sum of absolute slopes\n",
    "    alpha_inverse_temp[alpha] = inverse_temp\n",
    "    \n",
    "    # Track best alpha based on highest inverse temperature\n",
    "    if inverse_temp > best_inverse_temp:\n",
    "        best_inverse_temp = inverse_temp\n",
    "        best_alpha = alpha\n",
    "\n",
    "# Plot inverse temperature vs. alpha\n",
    "plt.plot(alphas, list(alpha_inverse_temp.values()), marker='o')\n",
    "plt.xlabel(\"Learning Rate (Alpha)\")\n",
    "plt.ylabel(\"Inverse Temperature (Abs Slope Sum)\")\n",
    "plt.title(\"Optimal Alpha Based on Inverse Temperature (Action-Based Q-learning)\")\n",
    "plt.show()\n",
    "\n",
    "# Print best alpha and its inverse temperature\n",
    "print(f\"Best Alpha: {best_alpha:.2f}, Best Inverse Temperature: {best_inverse_temp:.4f}\")\n"
   ]
  },
  {
   "cell_type": "code",
   "execution_count": null,
   "id": "a9700993",
   "metadata": {},
   "outputs": [],
   "source": []
  },
  {
   "cell_type": "code",
   "execution_count": null,
   "id": "a72f47b0",
   "metadata": {},
   "outputs": [],
   "source": []
  }
 ],
 "metadata": {
  "kernelspec": {
   "display_name": "base",
   "language": "python",
   "name": "python3"
  },
  "language_info": {
   "codemirror_mode": {
    "name": "ipython",
    "version": 3
   },
   "file_extension": ".py",
   "mimetype": "text/x-python",
   "name": "python",
   "nbconvert_exporter": "python",
   "pygments_lexer": "ipython3",
   "version": "3.9.13"
  }
 },
 "nbformat": 4,
 "nbformat_minor": 5
}
