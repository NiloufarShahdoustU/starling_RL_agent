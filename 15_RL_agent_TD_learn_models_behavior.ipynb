{
 "cells": [
  {
   "cell_type": "markdown",
   "id": "3460432c",
   "metadata": {},
   "source": [
    "# comparing models behavior with participants behavior"
   ]
  },
  {
   "cell_type": "code",
   "execution_count": 9,
   "id": "9d88a4d6-96e0-4f0b-b75e-d2b236148054",
   "metadata": {},
   "outputs": [],
   "source": [
    "import pandas as pd\n",
    "import numpy as np\n",
    "import matplotlib.pyplot as plt\n",
    "import os\n",
    "import seaborn as sns \n"
   ]
  },
  {
   "cell_type": "code",
   "execution_count": null,
   "id": "b9316969",
   "metadata": {},
   "outputs": [
    {
     "data": {
      "application/vnd.microsoft.datawrangler.viewer.v0+json": {
       "columns": [
        {
         "name": "index",
         "rawType": "int64",
         "type": "integer"
        },
        {
         "name": "arrowRT",
         "rawType": "object",
         "type": "unknown"
        },
        {
         "name": "distribution",
         "rawType": "object",
         "type": "string"
        },
        {
         "name": "interTrialInterval",
         "rawType": "int64",
         "type": "integer"
        },
        {
         "name": "outcome",
         "rawType": "object",
         "type": "string"
        },
        {
         "name": "myCard",
         "rawType": "int64",
         "type": "integer"
        },
        {
         "name": "yourCard",
         "rawType": "int64",
         "type": "integer"
        },
        {
         "name": "spaceRT",
         "rawType": "int64",
         "type": "integer"
        },
        {
         "name": "totalReward",
         "rawType": "object",
         "type": "unknown"
        },
        {
         "name": "trialIndex",
         "rawType": "int64",
         "type": "integer"
        },
        {
         "name": "trialType",
         "rawType": "object",
         "type": "string"
        },
        {
         "name": "choice",
         "rawType": "object",
         "type": "string"
        },
        {
         "name": "block",
         "rawType": "int64",
         "type": "integer"
        },
        {
         "name": "timeoutRepeat",
         "rawType": "int64",
         "type": "integer"
        },
        {
         "name": "risk",
         "rawType": "float64",
         "type": "float"
        }
       ],
       "conversionMethod": "pd.DataFrame",
       "ref": "1afee493-f81d-487e-902c-8bfcdfea18a9",
       "rows": [
        [
         "0",
         "570",
         "uniform",
         "831",
         "lose",
         "5",
         "2",
         "2209",
         "9.5",
         "0",
         "response",
         "arrowdown",
         "1",
         "0",
         "0.5"
        ],
        [
         "1",
         "1162",
         "uniform",
         "901",
         "lose",
         "4",
         "3",
         "5755",
         "9",
         "1",
         "response",
         "arrowdown",
         "1",
         "0",
         "0.375"
        ],
        [
         "2",
         "355",
         "uniform",
         "939",
         "win",
         "4",
         "6",
         "1209",
         "9.5",
         "2",
         "response",
         "arrowdown",
         "1",
         "0",
         "0.375"
        ]
       ],
       "shape": {
        "columns": 14,
        "rows": 3
       }
      },
      "text/html": [
       "<div>\n",
       "<style scoped>\n",
       "    .dataframe tbody tr th:only-of-type {\n",
       "        vertical-align: middle;\n",
       "    }\n",
       "\n",
       "    .dataframe tbody tr th {\n",
       "        vertical-align: top;\n",
       "    }\n",
       "\n",
       "    .dataframe thead th {\n",
       "        text-align: right;\n",
       "    }\n",
       "</style>\n",
       "<table border=\"1\" class=\"dataframe\">\n",
       "  <thead>\n",
       "    <tr style=\"text-align: right;\">\n",
       "      <th></th>\n",
       "      <th>arrowRT</th>\n",
       "      <th>distribution</th>\n",
       "      <th>interTrialInterval</th>\n",
       "      <th>outcome</th>\n",
       "      <th>myCard</th>\n",
       "      <th>yourCard</th>\n",
       "      <th>spaceRT</th>\n",
       "      <th>totalReward</th>\n",
       "      <th>trialIndex</th>\n",
       "      <th>trialType</th>\n",
       "      <th>choice</th>\n",
       "      <th>block</th>\n",
       "      <th>timeoutRepeat</th>\n",
       "      <th>risk</th>\n",
       "    </tr>\n",
       "  </thead>\n",
       "  <tbody>\n",
       "    <tr>\n",
       "      <th>0</th>\n",
       "      <td>570</td>\n",
       "      <td>uniform</td>\n",
       "      <td>831</td>\n",
       "      <td>lose</td>\n",
       "      <td>5</td>\n",
       "      <td>2</td>\n",
       "      <td>2209</td>\n",
       "      <td>9.5</td>\n",
       "      <td>0</td>\n",
       "      <td>response</td>\n",
       "      <td>arrowdown</td>\n",
       "      <td>1</td>\n",
       "      <td>0</td>\n",
       "      <td>0.500</td>\n",
       "    </tr>\n",
       "    <tr>\n",
       "      <th>1</th>\n",
       "      <td>1162</td>\n",
       "      <td>uniform</td>\n",
       "      <td>901</td>\n",
       "      <td>lose</td>\n",
       "      <td>4</td>\n",
       "      <td>3</td>\n",
       "      <td>5755</td>\n",
       "      <td>9</td>\n",
       "      <td>1</td>\n",
       "      <td>response</td>\n",
       "      <td>arrowdown</td>\n",
       "      <td>1</td>\n",
       "      <td>0</td>\n",
       "      <td>0.375</td>\n",
       "    </tr>\n",
       "    <tr>\n",
       "      <th>2</th>\n",
       "      <td>355</td>\n",
       "      <td>uniform</td>\n",
       "      <td>939</td>\n",
       "      <td>win</td>\n",
       "      <td>4</td>\n",
       "      <td>6</td>\n",
       "      <td>1209</td>\n",
       "      <td>9.5</td>\n",
       "      <td>2</td>\n",
       "      <td>response</td>\n",
       "      <td>arrowdown</td>\n",
       "      <td>1</td>\n",
       "      <td>0</td>\n",
       "      <td>0.375</td>\n",
       "    </tr>\n",
       "  </tbody>\n",
       "</table>\n",
       "</div>"
      ],
      "text/plain": [
       "  arrowRT distribution  interTrialInterval outcome  myCard  yourCard  spaceRT  \\\n",
       "0     570      uniform                 831    lose       5         2     2209   \n",
       "1    1162      uniform                 901    lose       4         3     5755   \n",
       "2     355      uniform                 939     win       4         6     1209   \n",
       "\n",
       "  totalReward  trialIndex trialType     choice  block  timeoutRepeat   risk  \n",
       "0         9.5           0  response  arrowdown      1              0  0.500  \n",
       "1           9           1  response  arrowdown      1              0  0.375  \n",
       "2         9.5           2  response  arrowdown      1              0  0.375  "
      ]
     },
     "execution_count": 10,
     "metadata": {},
     "output_type": "execute_result"
    }
   ],
   "source": [
    "output_dir = r\"14_15_RL_agent_TDlearn_output\"\n",
    "\n",
    "folder_path_participants = 'data_risk_added'\n",
    "df_participants = []\n",
    "\n",
    "for file_name in os.listdir(folder_path_participants):\n",
    "    if file_name.endswith('.xlsx'):\n",
    "        file_path = os.path.join(folder_path_participants, file_name)\n",
    "        df = pd.read_excel(file_path)\n",
    "        df_participants.append(df)\n",
    "        \n",
    "df_participants[0].head(3)"
   ]
  },
  {
   "cell_type": "code",
   "execution_count": null,
   "id": "1d4ffa30",
   "metadata": {},
   "outputs": [],
   "source": []
  },
  {
   "cell_type": "code",
   "execution_count": null,
   "id": "0edd5649",
   "metadata": {},
   "outputs": [],
   "source": []
  }
 ],
 "metadata": {
  "kernelspec": {
   "display_name": "base",
   "language": "python",
   "name": "python3"
  },
  "language_info": {
   "codemirror_mode": {
    "name": "ipython",
    "version": 3
   },
   "file_extension": ".py",
   "mimetype": "text/x-python",
   "name": "python",
   "nbconvert_exporter": "python",
   "pygments_lexer": "ipython3",
   "version": "3.9.13"
  }
 },
 "nbformat": 4,
 "nbformat_minor": 5
}
